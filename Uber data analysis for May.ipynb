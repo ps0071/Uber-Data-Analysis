{
 "cells": [
  {
   "cell_type": "code",
   "execution_count": 1,
   "metadata": {},
   "outputs": [
    {
     "name": "stdout",
     "output_type": "stream",
     "text": [
      "Populating the interactive namespace from numpy and matplotlib\n"
     ]
    }
   ],
   "source": [
    "%pylab inline\n",
    "import pandas\n",
    "import seaborn"
   ]
  },
  {
   "cell_type": "code",
   "execution_count": 2,
   "metadata": {},
   "outputs": [],
   "source": [
    "data = pandas.read_csv('Desktop/uber-raw-data-may14.csv')"
   ]
  },
  {
   "cell_type": "code",
   "execution_count": 3,
   "metadata": {},
   "outputs": [
    {
     "data": {
      "text/html": [
       "<div>\n",
       "<style scoped>\n",
       "    .dataframe tbody tr th:only-of-type {\n",
       "        vertical-align: middle;\n",
       "    }\n",
       "\n",
       "    .dataframe tbody tr th {\n",
       "        vertical-align: top;\n",
       "    }\n",
       "\n",
       "    .dataframe thead th {\n",
       "        text-align: right;\n",
       "    }\n",
       "</style>\n",
       "<table border=\"1\" class=\"dataframe\">\n",
       "  <thead>\n",
       "    <tr style=\"text-align: right;\">\n",
       "      <th></th>\n",
       "      <th>Date/Time</th>\n",
       "      <th>Lat</th>\n",
       "      <th>Lon</th>\n",
       "      <th>Base</th>\n",
       "    </tr>\n",
       "  </thead>\n",
       "  <tbody>\n",
       "    <tr>\n",
       "      <th>0</th>\n",
       "      <td>5/1/2014 0:02:00</td>\n",
       "      <td>40.7521</td>\n",
       "      <td>-73.9914</td>\n",
       "      <td>B02512</td>\n",
       "    </tr>\n",
       "    <tr>\n",
       "      <th>1</th>\n",
       "      <td>5/1/2014 0:06:00</td>\n",
       "      <td>40.6965</td>\n",
       "      <td>-73.9715</td>\n",
       "      <td>B02512</td>\n",
       "    </tr>\n",
       "    <tr>\n",
       "      <th>2</th>\n",
       "      <td>5/1/2014 0:15:00</td>\n",
       "      <td>40.7464</td>\n",
       "      <td>-73.9838</td>\n",
       "      <td>B02512</td>\n",
       "    </tr>\n",
       "    <tr>\n",
       "      <th>3</th>\n",
       "      <td>5/1/2014 0:17:00</td>\n",
       "      <td>40.7463</td>\n",
       "      <td>-74.0011</td>\n",
       "      <td>B02512</td>\n",
       "    </tr>\n",
       "    <tr>\n",
       "      <th>4</th>\n",
       "      <td>5/1/2014 0:17:00</td>\n",
       "      <td>40.7594</td>\n",
       "      <td>-73.9734</td>\n",
       "      <td>B02512</td>\n",
       "    </tr>\n",
       "  </tbody>\n",
       "</table>\n",
       "</div>"
      ],
      "text/plain": [
       "          Date/Time      Lat      Lon    Base\n",
       "0  5/1/2014 0:02:00  40.7521 -73.9914  B02512\n",
       "1  5/1/2014 0:06:00  40.6965 -73.9715  B02512\n",
       "2  5/1/2014 0:15:00  40.7464 -73.9838  B02512\n",
       "3  5/1/2014 0:17:00  40.7463 -74.0011  B02512\n",
       "4  5/1/2014 0:17:00  40.7594 -73.9734  B02512"
      ]
     },
     "execution_count": 3,
     "metadata": {},
     "output_type": "execute_result"
    }
   ],
   "source": [
    "data.head()"
   ]
  },
  {
   "cell_type": "code",
   "execution_count": 4,
   "metadata": {},
   "outputs": [],
   "source": [
    "data['Date/Time'] = data['Date/Time'].map(pandas.to_datetime)"
   ]
  },
  {
   "cell_type": "code",
   "execution_count": 5,
   "metadata": {},
   "outputs": [
    {
     "data": {
      "text/html": [
       "<div>\n",
       "<style scoped>\n",
       "    .dataframe tbody tr th:only-of-type {\n",
       "        vertical-align: middle;\n",
       "    }\n",
       "\n",
       "    .dataframe tbody tr th {\n",
       "        vertical-align: top;\n",
       "    }\n",
       "\n",
       "    .dataframe thead th {\n",
       "        text-align: right;\n",
       "    }\n",
       "</style>\n",
       "<table border=\"1\" class=\"dataframe\">\n",
       "  <thead>\n",
       "    <tr style=\"text-align: right;\">\n",
       "      <th></th>\n",
       "      <th>Date/Time</th>\n",
       "      <th>Lat</th>\n",
       "      <th>Lon</th>\n",
       "      <th>Base</th>\n",
       "    </tr>\n",
       "  </thead>\n",
       "  <tbody>\n",
       "    <tr>\n",
       "      <th>0</th>\n",
       "      <td>2014-05-01 00:02:00</td>\n",
       "      <td>40.7521</td>\n",
       "      <td>-73.9914</td>\n",
       "      <td>B02512</td>\n",
       "    </tr>\n",
       "    <tr>\n",
       "      <th>1</th>\n",
       "      <td>2014-05-01 00:06:00</td>\n",
       "      <td>40.6965</td>\n",
       "      <td>-73.9715</td>\n",
       "      <td>B02512</td>\n",
       "    </tr>\n",
       "    <tr>\n",
       "      <th>2</th>\n",
       "      <td>2014-05-01 00:15:00</td>\n",
       "      <td>40.7464</td>\n",
       "      <td>-73.9838</td>\n",
       "      <td>B02512</td>\n",
       "    </tr>\n",
       "    <tr>\n",
       "      <th>3</th>\n",
       "      <td>2014-05-01 00:17:00</td>\n",
       "      <td>40.7463</td>\n",
       "      <td>-74.0011</td>\n",
       "      <td>B02512</td>\n",
       "    </tr>\n",
       "    <tr>\n",
       "      <th>4</th>\n",
       "      <td>2014-05-01 00:17:00</td>\n",
       "      <td>40.7594</td>\n",
       "      <td>-73.9734</td>\n",
       "      <td>B02512</td>\n",
       "    </tr>\n",
       "  </tbody>\n",
       "</table>\n",
       "</div>"
      ],
      "text/plain": [
       "            Date/Time      Lat      Lon    Base\n",
       "0 2014-05-01 00:02:00  40.7521 -73.9914  B02512\n",
       "1 2014-05-01 00:06:00  40.6965 -73.9715  B02512\n",
       "2 2014-05-01 00:15:00  40.7464 -73.9838  B02512\n",
       "3 2014-05-01 00:17:00  40.7463 -74.0011  B02512\n",
       "4 2014-05-01 00:17:00  40.7594 -73.9734  B02512"
      ]
     },
     "execution_count": 5,
     "metadata": {},
     "output_type": "execute_result"
    }
   ],
   "source": [
    "data.head()"
   ]
  },
  {
   "cell_type": "code",
   "execution_count": 6,
   "metadata": {},
   "outputs": [],
   "source": [
    "def get_date(dt):\n",
    "    return dt.day\n",
    "data['date'] = data['Date/Time'].map(get_date)"
   ]
  },
  {
   "cell_type": "code",
   "execution_count": 7,
   "metadata": {},
   "outputs": [],
   "source": [
    "def get_weekday(dt):\n",
    "    return dt.weekday()\n",
    "data['weekday'] = data['Date/Time'].map(get_weekday)"
   ]
  },
  {
   "cell_type": "code",
   "execution_count": 8,
   "metadata": {},
   "outputs": [],
   "source": [
    "def get_hour(dt):\n",
    "    return dt.hour\n",
    "data['hours'] = data['Date/Time'].map(get_hour)"
   ]
  },
  {
   "cell_type": "code",
   "execution_count": 9,
   "metadata": {},
   "outputs": [
    {
     "data": {
      "text/html": [
       "<div>\n",
       "<style scoped>\n",
       "    .dataframe tbody tr th:only-of-type {\n",
       "        vertical-align: middle;\n",
       "    }\n",
       "\n",
       "    .dataframe tbody tr th {\n",
       "        vertical-align: top;\n",
       "    }\n",
       "\n",
       "    .dataframe thead th {\n",
       "        text-align: right;\n",
       "    }\n",
       "</style>\n",
       "<table border=\"1\" class=\"dataframe\">\n",
       "  <thead>\n",
       "    <tr style=\"text-align: right;\">\n",
       "      <th></th>\n",
       "      <th>Date/Time</th>\n",
       "      <th>Lat</th>\n",
       "      <th>Lon</th>\n",
       "      <th>Base</th>\n",
       "      <th>date</th>\n",
       "      <th>weekday</th>\n",
       "      <th>hours</th>\n",
       "    </tr>\n",
       "  </thead>\n",
       "  <tbody>\n",
       "    <tr>\n",
       "      <th>652430</th>\n",
       "      <td>2014-05-31 23:45:00</td>\n",
       "      <td>40.7309</td>\n",
       "      <td>-74.0014</td>\n",
       "      <td>B02764</td>\n",
       "      <td>31</td>\n",
       "      <td>5</td>\n",
       "      <td>23</td>\n",
       "    </tr>\n",
       "    <tr>\n",
       "      <th>652431</th>\n",
       "      <td>2014-05-31 23:52:00</td>\n",
       "      <td>40.7528</td>\n",
       "      <td>-73.9798</td>\n",
       "      <td>B02764</td>\n",
       "      <td>31</td>\n",
       "      <td>5</td>\n",
       "      <td>23</td>\n",
       "    </tr>\n",
       "    <tr>\n",
       "      <th>652432</th>\n",
       "      <td>2014-05-31 23:55:00</td>\n",
       "      <td>40.7158</td>\n",
       "      <td>-73.9519</td>\n",
       "      <td>B02764</td>\n",
       "      <td>31</td>\n",
       "      <td>5</td>\n",
       "      <td>23</td>\n",
       "    </tr>\n",
       "    <tr>\n",
       "      <th>652433</th>\n",
       "      <td>2014-05-31 23:56:00</td>\n",
       "      <td>40.6961</td>\n",
       "      <td>-73.8997</td>\n",
       "      <td>B02764</td>\n",
       "      <td>31</td>\n",
       "      <td>5</td>\n",
       "      <td>23</td>\n",
       "    </tr>\n",
       "    <tr>\n",
       "      <th>652434</th>\n",
       "      <td>2014-05-31 23:59:00</td>\n",
       "      <td>40.7393</td>\n",
       "      <td>-73.9919</td>\n",
       "      <td>B02764</td>\n",
       "      <td>31</td>\n",
       "      <td>5</td>\n",
       "      <td>23</td>\n",
       "    </tr>\n",
       "  </tbody>\n",
       "</table>\n",
       "</div>"
      ],
      "text/plain": [
       "                 Date/Time      Lat      Lon    Base  date  weekday  hours\n",
       "652430 2014-05-31 23:45:00  40.7309 -74.0014  B02764    31        5     23\n",
       "652431 2014-05-31 23:52:00  40.7528 -73.9798  B02764    31        5     23\n",
       "652432 2014-05-31 23:55:00  40.7158 -73.9519  B02764    31        5     23\n",
       "652433 2014-05-31 23:56:00  40.6961 -73.8997  B02764    31        5     23\n",
       "652434 2014-05-31 23:59:00  40.7393 -73.9919  B02764    31        5     23"
      ]
     },
     "execution_count": 9,
     "metadata": {},
     "output_type": "execute_result"
    }
   ],
   "source": [
    "data.tail()"
   ]
  },
  {
   "cell_type": "code",
   "execution_count": 22,
   "metadata": {},
   "outputs": [
    {
     "data": {
      "text/plain": [
       "Text(0.5, 1.0, 'Frequency by Date - uber - May 2014')"
      ]
     },
     "execution_count": 22,
     "metadata": {},
     "output_type": "execute_result"
    },
    {
     "data": {
      "image/png": "[encoded data removed]",
      "text/plain": [
       "<Figure size 432x288 with 1 Axes>"
      ]
     },
     "metadata": {
      "needs_background": "light"
     },
     "output_type": "display_data"
    }
   ],
   "source": [
    "hist(data.date, bins=30, rwidth=0.8, range=(0.5,30.5))\n",
    "xlabel('Date of the month')\n",
    "ylabel('Frequency')\n",
    "title('Frequency by Date - uber - May 2014')"
   ]
  },
  {
   "cell_type": "code",
   "execution_count": 15,
   "metadata": {},
   "outputs": [
    {
     "data": {
      "text/plain": [
       "date\n",
       "1     23375\n",
       "2     24235\n",
       "3     22234\n",
       "4     13918\n",
       "5     17859\n",
       "6     19300\n",
       "7     21891\n",
       "8     27513\n",
       "9     26385\n",
       "10    22550\n",
       "11    14901\n",
       "12    17470\n",
       "13    19498\n",
       "14    22218\n",
       "15    26301\n",
       "16    32493\n",
       "17    22294\n",
       "18    16508\n",
       "19    18315\n",
       "20    20860\n",
       "21    23508\n",
       "22    26802\n",
       "23    26465\n",
       "24    14651\n",
       "25    10841\n",
       "26    10202\n",
       "27    17004\n",
       "28    22240\n",
       "29    24930\n",
       "30    24413\n",
       "31    21261\n",
       "dtype: int64"
      ]
     },
     "execution_count": 15,
     "metadata": {},
     "output_type": "execute_result"
    }
   ],
   "source": [
    "def count_rows(rows):\n",
    "    return len(rows)\n",
    "num = data.groupby('date').apply(count_rows)\n",
    "num"
   ]
  },
  {
   "cell_type": "code",
   "execution_count": 16,
   "metadata": {},
   "outputs": [
    {
     "data": {
      "text/plain": [
       "date\n",
       "26    10202\n",
       "25    10841\n",
       "4     13918\n",
       "24    14651\n",
       "11    14901\n",
       "18    16508\n",
       "27    17004\n",
       "12    17470\n",
       "5     17859\n",
       "19    18315\n",
       "6     19300\n",
       "13    19498\n",
       "20    20860\n",
       "31    21261\n",
       "7     21891\n",
       "14    22218\n",
       "3     22234\n",
       "28    22240\n",
       "17    22294\n",
       "10    22550\n",
       "1     23375\n",
       "21    23508\n",
       "2     24235\n",
       "30    24413\n",
       "29    24930\n",
       "15    26301\n",
       "9     26385\n",
       "23    26465\n",
       "22    26802\n",
       "8     27513\n",
       "16    32493\n",
       "dtype: int64"
      ]
     },
     "execution_count": 16,
     "metadata": {},
     "output_type": "execute_result"
    }
   ],
   "source": [
    "s = num.sort_values()\n",
    "s"
   ]
  },
  {
   "cell_type": "code",
   "execution_count": 21,
   "metadata": {},
   "outputs": [
    {
     "data": {
      "text/plain": [
       "Text(0.5, 1.0, 'Frequency by DoM - uber - May 2014')"
      ]
     },
     "execution_count": 21,
     "metadata": {},
     "output_type": "execute_result"
    },
    {
     "data": {
      "image/png": "[encoded data removed]",
      "text/plain": [
       "<Figure size 432x288 with 1 Axes>"
      ]
     },
     "metadata": {
      "needs_background": "light"
     },
     "output_type": "display_data"
    }
   ],
   "source": [
    "bar(range(0,31), s,color='#86bf91')\n",
    "xticks(range(0,31), s.index)\n",
    "xlabel('date of the month')\n",
    "ylabel('frequency')\n",
    "title('Frequency by DoM - uber - May 2014')"
   ]
  },
  {
   "cell_type": "code",
   "execution_count": 18,
   "metadata": {},
   "outputs": [
    {
     "data": {
      "text/plain": [
       "(array([13875.,  8186.,  5372.,  5946.,  6945., 10789., 21015., 27413.,\n",
       "        25460., 20507., 20801., 22055., 23595., 27699., 34363., 43087.,\n",
       "        49127., 51508., 48965., 42387., 40731., 42217., 35556., 24836.]),\n",
       " array([ 0.,  1.,  2.,  3.,  4.,  5.,  6.,  7.,  8.,  9., 10., 11., 12.,\n",
       "        13., 14., 15., 16., 17., 18., 19., 20., 21., 22., 23., 24.]),\n",
       " <a list of 24 Patch objects>)"
      ]
     },
     "execution_count": 18,
     "metadata": {},
     "output_type": "execute_result"
    },
    {
     "data": {
      "image/png": "[encoded data removed]",
      "text/plain": [
       "<Figure size 432x288 with 1 Axes>"
      ]
     },
     "metadata": {
      "needs_background": "light"
     },
     "output_type": "display_data"
    }
   ],
   "source": [
    "hist(data.hours, bins=24, range=(0, 24),color='#e5b73b')"
   ]
  },
  {
   "cell_type": "code",
   "execution_count": 19,
   "metadata": {},
   "outputs": [
    {
     "data": {
      "text/plain": [
       "([<matplotlib.axis.XTick at 0x1ad11be73c8>,\n",
       "  <matplotlib.axis.XTick at 0x1ad12419ac8>,\n",
       "  <matplotlib.axis.XTick at 0x1ad12419710>,\n",
       "  <matplotlib.axis.XTick at 0x1ad15dc8cf8>,\n",
       "  <matplotlib.axis.XTick at 0x1ad15dd51d0>,\n",
       "  <matplotlib.axis.XTick at 0x1ad15dd56a0>,\n",
       "  <matplotlib.axis.XTick at 0x1ad15dd5b70>],\n",
       " <a list of 7 Text xticklabel objects>)"
      ]
     },
     "execution_count": 19,
     "metadata": {},
     "output_type": "execute_result"
    },
    {
     "data": {
      "image/png": "[encoded data removed]",
      "text/plain": [
       "<Figure size 432x288 with 1 Axes>"
      ]
     },
     "metadata": {
      "needs_background": "light"
     },
     "output_type": "display_data"
    }
   ],
   "source": [
    "hist(data.weekday, bins=7, range =(-.5,6.5), rwidth=.8, color='#86bf91')\n",
    "xticks(range(7), 'Mon Tue Wed Thu Fri Sat Sun'.split())"
   ]
  },
  {
   "cell_type": "code",
   "execution_count": 20,
   "metadata": {},
   "outputs": [
    {
     "data": {
      "text/plain": [
       "<matplotlib.axes._subplots.AxesSubplot at 0x1ad160a9898>"
      ]
     },
     "execution_count": 20,
     "metadata": {},
     "output_type": "execute_result"
    },
    {
     "data": {
      "image/png": "[encoded data removed]",
      "text/plain": [
       "<Figure size 432x288 with 2 Axes>"
      ]
     },
     "metadata": {
      "needs_background": "light"
     },
     "output_type": "display_data"
    }
   ],
   "source": [
    "cross = data.groupby('weekday hours'.split()).apply(count_rows).unstack()\n",
    "seaborn.heatmap(cross)"
   ]
  },
  {
   "cell_type": "code",
   "execution_count": null,
   "metadata": {},
   "outputs": [],
   "source": []
  }
 ],
 "metadata": {
  "kernelspec": {
   "display_name": "Python 3",
   "language": "python",
   "name": "python3"
  },
  "language_info": {
   "codemirror_mode": {
    "name": "ipython",
    "version": 3
   },
   "file_extension": ".py",
   "mimetype": "text/x-python",
   "name": "python",
   "nbconvert_exporter": "python",
   "pygments_lexer": "ipython3",
   "version": "3.7.1"
  }
 },
 "nbformat": 4,
 "nbformat_minor": 2
}
